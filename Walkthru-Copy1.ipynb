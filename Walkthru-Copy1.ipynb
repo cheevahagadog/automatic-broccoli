{
 "cells": [
  {
   "cell_type": "code",
   "execution_count": 1,
   "metadata": {},
   "outputs": [],
   "source": [
    "import auto_broccoli as broc"
   ]
  },
  {
   "cell_type": "markdown",
   "metadata": {},
   "source": [
    "### On it's own, it generates a sample dataset"
   ]
  },
  {
   "cell_type": "code",
   "execution_count": 2,
   "metadata": {
    "collapsed": true
   },
   "outputs": [],
   "source": [
    "# Fake generated data\n",
    "ab = broc.AutoBroccoli()"
   ]
  },
  {
   "cell_type": "code",
   "execution_count": 3,
   "metadata": {},
   "outputs": [
    {
     "data": {
      "text/html": [
       "<div>\n",
       "<style scoped>\n",
       "    .dataframe tbody tr th:only-of-type {\n",
       "        vertical-align: middle;\n",
       "    }\n",
       "\n",
       "    .dataframe tbody tr th {\n",
       "        vertical-align: top;\n",
       "    }\n",
       "\n",
       "    .dataframe thead th {\n",
       "        text-align: right;\n",
       "    }\n",
       "</style>\n",
       "<table border=\"1\" class=\"dataframe\">\n",
       "  <thead>\n",
       "    <tr style=\"text-align: right;\">\n",
       "      <th></th>\n",
       "      <th>active</th>\n",
       "      <th>buyer_type</th>\n",
       "      <th>content_type</th>\n",
       "      <th>date</th>\n",
       "      <th>duration_percent</th>\n",
       "      <th>impressions</th>\n",
       "      <th>nice_person</th>\n",
       "      <th>user_id</th>\n",
       "      <th>visits</th>\n",
       "    </tr>\n",
       "  </thead>\n",
       "  <tbody>\n",
       "    <tr>\n",
       "      <th>0</th>\n",
       "      <td>False</td>\n",
       "      <td>me</td>\n",
       "      <td>youtube</td>\n",
       "      <td>2018-03-09 22:02:16</td>\n",
       "      <td>0.753197</td>\n",
       "      <td>1</td>\n",
       "      <td>Y</td>\n",
       "      <td>michaelhunter@gmail.com</td>\n",
       "      <td>306</td>\n",
       "    </tr>\n",
       "    <tr>\n",
       "      <th>1</th>\n",
       "      <td>False</td>\n",
       "      <td>friend</td>\n",
       "      <td>social media</td>\n",
       "      <td>2018-03-21 11:42:46</td>\n",
       "      <td>0.596238</td>\n",
       "      <td>1</td>\n",
       "      <td>Y</td>\n",
       "      <td>gbruce@blair.com</td>\n",
       "      <td>358</td>\n",
       "    </tr>\n",
       "    <tr>\n",
       "      <th>2</th>\n",
       "      <td>True</td>\n",
       "      <td>other</td>\n",
       "      <td>social media</td>\n",
       "      <td>2018-03-17 13:07:50</td>\n",
       "      <td>0.642176</td>\n",
       "      <td>1</td>\n",
       "      <td>N</td>\n",
       "      <td>denisecampos@smith.org</td>\n",
       "      <td>309</td>\n",
       "    </tr>\n",
       "    <tr>\n",
       "      <th>3</th>\n",
       "      <td>True</td>\n",
       "      <td>me</td>\n",
       "      <td>social media</td>\n",
       "      <td>2018-03-15 03:23:34</td>\n",
       "      <td>0.285274</td>\n",
       "      <td>4</td>\n",
       "      <td>N</td>\n",
       "      <td>george67@hotmail.com</td>\n",
       "      <td>451</td>\n",
       "    </tr>\n",
       "    <tr>\n",
       "      <th>4</th>\n",
       "      <td>True</td>\n",
       "      <td>friend</td>\n",
       "      <td>newspaper</td>\n",
       "      <td>2018-03-31 13:33:31</td>\n",
       "      <td>0.307920</td>\n",
       "      <td>5</td>\n",
       "      <td>Y</td>\n",
       "      <td>yrivera@yahoo.com</td>\n",
       "      <td>676</td>\n",
       "    </tr>\n",
       "  </tbody>\n",
       "</table>\n",
       "</div>"
      ],
      "text/plain": [
       "   active buyer_type  content_type                date  duration_percent  \\\n",
       "0   False         me       youtube 2018-03-09 22:02:16          0.753197   \n",
       "1   False     friend  social media 2018-03-21 11:42:46          0.596238   \n",
       "2    True      other  social media 2018-03-17 13:07:50          0.642176   \n",
       "3    True         me  social media 2018-03-15 03:23:34          0.285274   \n",
       "4    True     friend     newspaper 2018-03-31 13:33:31          0.307920   \n",
       "\n",
       "   impressions nice_person                  user_id  visits  \n",
       "0            1           Y  michaelhunter@gmail.com     306  \n",
       "1            1           Y         gbruce@blair.com     358  \n",
       "2            1           N   denisecampos@smith.org     309  \n",
       "3            4           N     george67@hotmail.com     451  \n",
       "4            5           Y        yrivera@yahoo.com     676  "
      ]
     },
     "execution_count": 3,
     "metadata": {},
     "output_type": "execute_result"
    }
   ],
   "source": [
    "ab.df.head()"
   ]
  },
  {
   "cell_type": "code",
   "execution_count": null,
   "metadata": {
    "collapsed": true
   },
   "outputs": [],
   "source": []
  }
 ],
 "metadata": {
  "kernelspec": {
   "display_name": "broccoli",
   "language": "python",
   "name": "broccoli"
  },
  "language_info": {
   "codemirror_mode": {
    "name": "ipython",
    "version": 3
   },
   "file_extension": ".py",
   "mimetype": "text/x-python",
   "name": "python",
   "nbconvert_exporter": "python",
   "pygments_lexer": "ipython3",
   "version": "3.6.5"
  }
 },
 "nbformat": 4,
 "nbformat_minor": 2
}
